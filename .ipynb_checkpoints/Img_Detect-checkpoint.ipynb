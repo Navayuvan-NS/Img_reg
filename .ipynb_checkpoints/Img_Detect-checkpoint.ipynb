{
 "cells": [
  {
   "cell_type": "code",
   "execution_count": 150,
   "metadata": {},
   "outputs": [],
   "source": [
    "import cv2\n",
    "import os\n",
    "import numpy as np\n",
    "import time\n",
    "import matplotlib.pyplot as plt"
   ]
  },
  {
   "cell_type": "code",
   "execution_count": 156,
   "metadata": {},
   "outputs": [],
   "source": [
    "def convertToRGB(img): \n",
    "    return cv2.cvtColor(img, cv2.COLOR_BGR2RGB)"
   ]
  },
  {
   "cell_type": "code",
   "execution_count": 158,
   "metadata": {},
   "outputs": [
    {
     "ename": "SyntaxError",
     "evalue": "unexpected EOF while parsing (<ipython-input-158-1c8c87e00979>, line 8)",
     "output_type": "error",
     "traceback": [
      "\u001b[0;36m  File \u001b[0;32m\"<ipython-input-158-1c8c87e00979>\"\u001b[0;36m, line \u001b[0;32m8\u001b[0m\n\u001b[0;31m    \u001b[0m\n\u001b[0m    ^\u001b[0m\n\u001b[0;31mSyntaxError\u001b[0m\u001b[0;31m:\u001b[0m unexpected EOF while parsing\n"
     ]
    }
   ],
   "source": [
    "def detectImage(fcascade,clr_img,scalefactor=1.1):\n",
    "    img_cpy=clt_img.copy()\n",
    "    gimg_cpy = cv2.cvtColor(img_cpy, cv2.COLOR_BGR2GRAY)\n",
    "    faces = fcascade.detectMultiScale(gimg_cpy, scaleFactor=1.1,minNeighbors=5);\n",
    "    for (x, y, w, h) in faces:     \n",
    "        cv2.rectangle(img_cpy, (x, y), (x+w, y+h), (0, 255, 0), 2)\n",
    "    plt.imshow(convertToRBG(img_cpy)\n",
    "    "
   ]
  },
  {
   "cell_type": "code",
   "execution_count": 153,
   "metadata": {},
   "outputs": [],
   "source": [
    "test1 = cv2.imread('infinitywar.jpg')\n",
    "haar_cascade_classifier = cv2.CascadeClassifier('/home/ns/anaconda3/share/OpenCV/haarcascades/haarcascade_frontalface_alt2.xml')"
   ]
  },
  {
   "cell_type": "code",
   "execution_count": 154,
   "metadata": {},
   "outputs": [
    {
     "ename": "SyntaxError",
     "evalue": "unexpected EOF while parsing (<ipython-input-154-8354d129ea6e>, line 2)",
     "output_type": "error",
     "traceback": [
      "\u001b[0;36m  File \u001b[0;32m\"<ipython-input-154-8354d129ea6e>\"\u001b[0;36m, line \u001b[0;32m2\u001b[0m\n\u001b[0;31m    #detectImage(haar_cascade_classifier,test1,1.1)\u001b[0m\n\u001b[0m                                                   ^\u001b[0m\n\u001b[0;31mSyntaxError\u001b[0m\u001b[0;31m:\u001b[0m unexpected EOF while parsing\n"
     ]
    }
   ],
   "source": [
    "#plt.imshow(convertToRGB(detectImage(haar_cascade_classifier,test1,1.1))\n",
    "detectImage(haar_cascade_classifier,test1,1.1)\n"
   ]
  },
  {
   "cell_type": "code",
   "execution_count": null,
   "metadata": {},
   "outputs": [],
   "source": []
  }
 ],
 "metadata": {
  "kernelspec": {
   "display_name": "Python 3",
   "language": "python",
   "name": "python3"
  },
  "language_info": {
   "codemirror_mode": {
    "name": "ipython",
    "version": 3
   },
   "file_extension": ".py",
   "mimetype": "text/x-python",
   "name": "python",
   "nbconvert_exporter": "python",
   "pygments_lexer": "ipython3",
   "version": "3.6.5"
  }
 },
 "nbformat": 4,
 "nbformat_minor": 2
}
